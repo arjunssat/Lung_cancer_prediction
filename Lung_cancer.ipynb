{
 "cells": [
  {
   "cell_type": "code",
   "execution_count": 164,
   "id": "f4d26b00",
   "metadata": {},
   "outputs": [
    {
     "data": {
      "text/html": [
       "<div>\n",
       "<style scoped>\n",
       "    .dataframe tbody tr th:only-of-type {\n",
       "        vertical-align: middle;\n",
       "    }\n",
       "\n",
       "    .dataframe tbody tr th {\n",
       "        vertical-align: top;\n",
       "    }\n",
       "\n",
       "    .dataframe thead th {\n",
       "        text-align: right;\n",
       "    }\n",
       "</style>\n",
       "<table border=\"1\" class=\"dataframe\">\n",
       "  <thead>\n",
       "    <tr style=\"text-align: right;\">\n",
       "      <th></th>\n",
       "      <th>Name</th>\n",
       "      <th>Surname</th>\n",
       "      <th>Age</th>\n",
       "      <th>Smokes</th>\n",
       "      <th>AreaQ</th>\n",
       "      <th>Alkhol</th>\n",
       "      <th>Result</th>\n",
       "    </tr>\n",
       "  </thead>\n",
       "  <tbody>\n",
       "    <tr>\n",
       "      <th>0</th>\n",
       "      <td>John</td>\n",
       "      <td>Wick</td>\n",
       "      <td>35</td>\n",
       "      <td>3</td>\n",
       "      <td>5</td>\n",
       "      <td>4</td>\n",
       "      <td>1</td>\n",
       "    </tr>\n",
       "    <tr>\n",
       "      <th>1</th>\n",
       "      <td>John</td>\n",
       "      <td>Constantine</td>\n",
       "      <td>27</td>\n",
       "      <td>20</td>\n",
       "      <td>2</td>\n",
       "      <td>5</td>\n",
       "      <td>1</td>\n",
       "    </tr>\n",
       "    <tr>\n",
       "      <th>2</th>\n",
       "      <td>Camela</td>\n",
       "      <td>Anderson</td>\n",
       "      <td>30</td>\n",
       "      <td>0</td>\n",
       "      <td>5</td>\n",
       "      <td>2</td>\n",
       "      <td>0</td>\n",
       "    </tr>\n",
       "    <tr>\n",
       "      <th>3</th>\n",
       "      <td>Alex</td>\n",
       "      <td>Telles</td>\n",
       "      <td>28</td>\n",
       "      <td>0</td>\n",
       "      <td>8</td>\n",
       "      <td>1</td>\n",
       "      <td>0</td>\n",
       "    </tr>\n",
       "    <tr>\n",
       "      <th>4</th>\n",
       "      <td>Diego</td>\n",
       "      <td>Maradona</td>\n",
       "      <td>68</td>\n",
       "      <td>4</td>\n",
       "      <td>5</td>\n",
       "      <td>6</td>\n",
       "      <td>1</td>\n",
       "    </tr>\n",
       "  </tbody>\n",
       "</table>\n",
       "</div>"
      ],
      "text/plain": [
       "     Name      Surname  Age  Smokes  AreaQ  Alkhol  Result\n",
       "0    John         Wick   35       3      5       4       1\n",
       "1    John  Constantine   27      20      2       5       1\n",
       "2  Camela     Anderson   30       0      5       2       0\n",
       "3    Alex       Telles   28       0      8       1       0\n",
       "4   Diego     Maradona   68       4      5       6       1"
      ]
     },
     "execution_count": 164,
     "metadata": {},
     "output_type": "execute_result"
    }
   ],
   "source": [
    "import numpy as np\n",
    "import pandas as pd\n",
    "df=pd.read_csv('/home/hp/Downloads/lung_cancer_examples.csv')\n",
    "df.head()"
   ]
  },
  {
   "cell_type": "code",
   "execution_count": 165,
   "id": "5a9d6462",
   "metadata": {},
   "outputs": [
    {
     "data": {
      "text/plain": [
       "(59, 7)"
      ]
     },
     "execution_count": 165,
     "metadata": {},
     "output_type": "execute_result"
    }
   ],
   "source": [
    "df.shape"
   ]
  },
  {
   "cell_type": "code",
   "execution_count": 166,
   "id": "e5ccc9d3",
   "metadata": {},
   "outputs": [
    {
     "data": {
      "text/plain": [
       "413"
      ]
     },
     "execution_count": 166,
     "metadata": {},
     "output_type": "execute_result"
    }
   ],
   "source": [
    "df.size"
   ]
  },
  {
   "cell_type": "code",
   "execution_count": 167,
   "id": "ebb458d7",
   "metadata": {},
   "outputs": [
    {
     "data": {
      "text/html": [
       "<div>\n",
       "<style scoped>\n",
       "    .dataframe tbody tr th:only-of-type {\n",
       "        vertical-align: middle;\n",
       "    }\n",
       "\n",
       "    .dataframe tbody tr th {\n",
       "        vertical-align: top;\n",
       "    }\n",
       "\n",
       "    .dataframe thead th {\n",
       "        text-align: right;\n",
       "    }\n",
       "</style>\n",
       "<table border=\"1\" class=\"dataframe\">\n",
       "  <thead>\n",
       "    <tr style=\"text-align: right;\">\n",
       "      <th></th>\n",
       "      <th>Age</th>\n",
       "      <th>Smokes</th>\n",
       "      <th>AreaQ</th>\n",
       "      <th>Alkhol</th>\n",
       "      <th>Result</th>\n",
       "    </tr>\n",
       "  </thead>\n",
       "  <tbody>\n",
       "    <tr>\n",
       "      <th>count</th>\n",
       "      <td>59.000000</td>\n",
       "      <td>59.000000</td>\n",
       "      <td>59.000000</td>\n",
       "      <td>59.000000</td>\n",
       "      <td>59.000000</td>\n",
       "    </tr>\n",
       "    <tr>\n",
       "      <th>mean</th>\n",
       "      <td>42.627119</td>\n",
       "      <td>15.067797</td>\n",
       "      <td>5.203390</td>\n",
       "      <td>3.237288</td>\n",
       "      <td>0.474576</td>\n",
       "    </tr>\n",
       "    <tr>\n",
       "      <th>std</th>\n",
       "      <td>16.235230</td>\n",
       "      <td>7.984607</td>\n",
       "      <td>2.461984</td>\n",
       "      <td>2.380517</td>\n",
       "      <td>0.503640</td>\n",
       "    </tr>\n",
       "    <tr>\n",
       "      <th>min</th>\n",
       "      <td>18.000000</td>\n",
       "      <td>0.000000</td>\n",
       "      <td>1.000000</td>\n",
       "      <td>0.000000</td>\n",
       "      <td>0.000000</td>\n",
       "    </tr>\n",
       "    <tr>\n",
       "      <th>25%</th>\n",
       "      <td>29.000000</td>\n",
       "      <td>10.000000</td>\n",
       "      <td>3.000000</td>\n",
       "      <td>1.000000</td>\n",
       "      <td>0.000000</td>\n",
       "    </tr>\n",
       "    <tr>\n",
       "      <th>50%</th>\n",
       "      <td>39.000000</td>\n",
       "      <td>15.000000</td>\n",
       "      <td>5.000000</td>\n",
       "      <td>3.000000</td>\n",
       "      <td>0.000000</td>\n",
       "    </tr>\n",
       "    <tr>\n",
       "      <th>75%</th>\n",
       "      <td>55.000000</td>\n",
       "      <td>20.000000</td>\n",
       "      <td>7.500000</td>\n",
       "      <td>5.000000</td>\n",
       "      <td>1.000000</td>\n",
       "    </tr>\n",
       "    <tr>\n",
       "      <th>max</th>\n",
       "      <td>77.000000</td>\n",
       "      <td>34.000000</td>\n",
       "      <td>10.000000</td>\n",
       "      <td>8.000000</td>\n",
       "      <td>1.000000</td>\n",
       "    </tr>\n",
       "  </tbody>\n",
       "</table>\n",
       "</div>"
      ],
      "text/plain": [
       "             Age     Smokes      AreaQ     Alkhol     Result\n",
       "count  59.000000  59.000000  59.000000  59.000000  59.000000\n",
       "mean   42.627119  15.067797   5.203390   3.237288   0.474576\n",
       "std    16.235230   7.984607   2.461984   2.380517   0.503640\n",
       "min    18.000000   0.000000   1.000000   0.000000   0.000000\n",
       "25%    29.000000  10.000000   3.000000   1.000000   0.000000\n",
       "50%    39.000000  15.000000   5.000000   3.000000   0.000000\n",
       "75%    55.000000  20.000000   7.500000   5.000000   1.000000\n",
       "max    77.000000  34.000000  10.000000   8.000000   1.000000"
      ]
     },
     "execution_count": 167,
     "metadata": {},
     "output_type": "execute_result"
    }
   ],
   "source": [
    "df.describe()"
   ]
  },
  {
   "cell_type": "code",
   "execution_count": 168,
   "id": "5d686b99",
   "metadata": {},
   "outputs": [
    {
     "name": "stdout",
     "output_type": "stream",
     "text": [
      "<class 'pandas.core.frame.DataFrame'>\n",
      "RangeIndex: 59 entries, 0 to 58\n",
      "Data columns (total 7 columns):\n",
      " #   Column   Non-Null Count  Dtype \n",
      "---  ------   --------------  ----- \n",
      " 0   Name     59 non-null     object\n",
      " 1   Surname  59 non-null     object\n",
      " 2   Age      59 non-null     int64 \n",
      " 3   Smokes   59 non-null     int64 \n",
      " 4   AreaQ    59 non-null     int64 \n",
      " 5   Alkhol   59 non-null     int64 \n",
      " 6   Result   59 non-null     int64 \n",
      "dtypes: int64(5), object(2)\n",
      "memory usage: 3.4+ KB\n"
     ]
    }
   ],
   "source": [
    "df.info()"
   ]
  },
  {
   "cell_type": "code",
   "execution_count": 169,
   "id": "794bec7f",
   "metadata": {},
   "outputs": [
    {
     "data": {
      "text/plain": [
       "Name       0\n",
       "Surname    0\n",
       "Age        0\n",
       "Smokes     0\n",
       "AreaQ      0\n",
       "Alkhol     0\n",
       "Result     0\n",
       "dtype: int64"
      ]
     },
     "execution_count": 169,
     "metadata": {},
     "output_type": "execute_result"
    }
   ],
   "source": [
    "df.isna().sum()"
   ]
  },
  {
   "cell_type": "code",
   "execution_count": 170,
   "id": "df6f13cd",
   "metadata": {},
   "outputs": [],
   "source": [
    "df.drop(['Name','Surname'],axis=1,inplace=True)"
   ]
  },
  {
   "cell_type": "code",
   "execution_count": 171,
   "id": "45ebaf98",
   "metadata": {},
   "outputs": [
    {
     "data": {
      "text/plain": [
       "Index(['Age', 'Smokes', 'AreaQ', 'Alkhol', 'Result'], dtype='object')"
      ]
     },
     "execution_count": 171,
     "metadata": {},
     "output_type": "execute_result"
    }
   ],
   "source": [
    "df.columns"
   ]
  },
  {
   "cell_type": "markdown",
   "id": "3991b50d",
   "metadata": {},
   "source": [
    "## Extracting input and target features"
   ]
  },
  {
   "cell_type": "code",
   "execution_count": 172,
   "id": "2ad8c7ef",
   "metadata": {},
   "outputs": [
    {
     "data": {
      "text/plain": [
       "array([[35,  3,  5,  4],\n",
       "       [27, 20,  2,  5],\n",
       "       [30,  0,  5,  2],\n",
       "       [28,  0,  8,  1],\n",
       "       [68,  4,  5,  6],\n",
       "       [34,  0, 10,  0],\n",
       "       [58, 15, 10,  0],\n",
       "       [22, 12,  5,  2],\n",
       "       [45,  2,  6,  0],\n",
       "       [52, 18,  4,  5],\n",
       "       [33,  4,  8,  0],\n",
       "       [18, 10,  6,  3],\n",
       "       [25,  2,  5,  1],\n",
       "       [28, 20,  2,  8],\n",
       "       [34, 25,  4,  8],\n",
       "       [39, 18,  8,  1],\n",
       "       [42, 22,  3,  5],\n",
       "       [19, 12,  8,  0],\n",
       "       [62,  5,  4,  3],\n",
       "       [73, 10,  7,  6],\n",
       "       [55, 15,  1,  3],\n",
       "       [33,  8,  8,  1],\n",
       "       [22, 20,  6,  2],\n",
       "       [44,  5,  8,  1],\n",
       "       [77,  3,  2,  6],\n",
       "       [21, 20,  5,  3],\n",
       "       [37, 15,  6,  2],\n",
       "       [34, 12,  8,  0],\n",
       "       [55, 20,  1,  4],\n",
       "       [40, 20,  2,  7],\n",
       "       [36, 13,  5,  2],\n",
       "       [56, 20,  3,  3],\n",
       "       [47, 15,  1,  8],\n",
       "       [62, 25,  3,  4],\n",
       "       [26, 10,  7,  2],\n",
       "       [25, 20,  8,  2],\n",
       "       [59, 20,  3,  4],\n",
       "       [62, 15,  5,  5],\n",
       "       [33, 25,  8,  2],\n",
       "       [37, 10,  5,  3],\n",
       "       [50, 20,  2,  4],\n",
       "       [47, 12,  8,  0],\n",
       "       [69, 20,  5,  4],\n",
       "       [63, 20,  4,  5],\n",
       "       [39, 15,  7,  2],\n",
       "       [21, 20,  8,  3],\n",
       "       [31, 20,  9,  4],\n",
       "       [28, 10,  4,  1],\n",
       "       [53, 20,  6,  3],\n",
       "       [62, 20,  5,  6],\n",
       "       [42, 12,  6,  2],\n",
       "       [44, 30,  1,  6],\n",
       "       [26, 34,  1,  8],\n",
       "       [35, 20,  5,  1],\n",
       "       [26, 13,  6,  1],\n",
       "       [77, 20,  5,  4],\n",
       "       [75, 15,  3,  5],\n",
       "       [43, 30,  3,  8],\n",
       "       [51, 25,  9,  0]])"
      ]
     },
     "execution_count": 172,
     "metadata": {},
     "output_type": "execute_result"
    }
   ],
   "source": [
    "x=df.iloc[:,:-1].values\n",
    "x"
   ]
  },
  {
   "cell_type": "code",
   "execution_count": 173,
   "id": "bf0898a7",
   "metadata": {},
   "outputs": [
    {
     "data": {
      "text/plain": [
       "array([1, 1, 0, 0, 1, 0, 0, 0, 0, 1, 0, 0, 0, 1, 1, 0, 1, 0, 1, 1, 1, 0,\n",
       "       0, 0, 1, 0, 0, 0, 1, 1, 0, 1, 1, 1, 0, 0, 1, 1, 0, 0, 1, 0, 1, 1,\n",
       "       0, 0, 0, 0, 1, 1, 0, 1, 1, 0, 0, 1, 1, 1, 0])"
      ]
     },
     "execution_count": 173,
     "metadata": {},
     "output_type": "execute_result"
    }
   ],
   "source": [
    "y=df.iloc[:,-1].values\n",
    "y"
   ]
  },
  {
   "cell_type": "markdown",
   "id": "89cb2205",
   "metadata": {},
   "source": [
    "# Train Test splitting of the dataset"
   ]
  },
  {
   "cell_type": "code",
   "execution_count": 174,
   "id": "43a68a27",
   "metadata": {},
   "outputs": [
    {
     "data": {
      "text/plain": [
       "array([[77,  3,  2,  6],\n",
       "       [36, 13,  5,  2],\n",
       "       [47, 15,  1,  8],\n",
       "       [55, 15,  1,  3],\n",
       "       [26, 34,  1,  8],\n",
       "       [35, 20,  5,  1],\n",
       "       [18, 10,  6,  3],\n",
       "       [37, 15,  6,  2],\n",
       "       [59, 20,  3,  4],\n",
       "       [25, 20,  8,  2],\n",
       "       [51, 25,  9,  0],\n",
       "       [25,  2,  5,  1],\n",
       "       [37, 10,  5,  3],\n",
       "       [28, 10,  4,  1],\n",
       "       [42, 12,  6,  2],\n",
       "       [43, 30,  3,  8],\n",
       "       [55, 20,  1,  4],\n",
       "       [31, 20,  9,  4],\n",
       "       [28, 20,  2,  8],\n",
       "       [42, 22,  3,  5],\n",
       "       [34, 25,  4,  8],\n",
       "       [69, 20,  5,  4],\n",
       "       [68,  4,  5,  6],\n",
       "       [52, 18,  4,  5],\n",
       "       [26, 10,  7,  2],\n",
       "       [34,  0, 10,  0],\n",
       "       [53, 20,  6,  3],\n",
       "       [56, 20,  3,  3],\n",
       "       [77, 20,  5,  4],\n",
       "       [62, 20,  5,  6],\n",
       "       [40, 20,  2,  7],\n",
       "       [44,  5,  8,  1],\n",
       "       [33,  8,  8,  1],\n",
       "       [21, 20,  5,  3],\n",
       "       [63, 20,  4,  5],\n",
       "       [19, 12,  8,  0],\n",
       "       [58, 15, 10,  0],\n",
       "       [26, 13,  6,  1],\n",
       "       [44, 30,  1,  6],\n",
       "       [45,  2,  6,  0],\n",
       "       [39, 18,  8,  1],\n",
       "       [73, 10,  7,  6],\n",
       "       [28,  0,  8,  1],\n",
       "       [33,  4,  8,  0],\n",
       "       [30,  0,  5,  2],\n",
       "       [62, 15,  5,  5],\n",
       "       [22, 12,  5,  2]])"
      ]
     },
     "execution_count": 174,
     "metadata": {},
     "output_type": "execute_result"
    }
   ],
   "source": [
    "from sklearn.model_selection import train_test_split\n",
    "x_train,x_test,y_train,y_test=train_test_split(x,y,test_size=0.20)\n",
    "x_train"
   ]
  },
  {
   "cell_type": "code",
   "execution_count": 175,
   "id": "39306cc5",
   "metadata": {},
   "outputs": [
    {
     "data": {
      "text/plain": [
       "array([[62,  5,  4,  3],\n",
       "       [47, 12,  8,  0],\n",
       "       [33, 25,  8,  2],\n",
       "       [35,  3,  5,  4],\n",
       "       [27, 20,  2,  5],\n",
       "       [39, 15,  7,  2],\n",
       "       [50, 20,  2,  4],\n",
       "       [22, 20,  6,  2],\n",
       "       [75, 15,  3,  5],\n",
       "       [21, 20,  8,  3],\n",
       "       [34, 12,  8,  0],\n",
       "       [62, 25,  3,  4]])"
      ]
     },
     "execution_count": 175,
     "metadata": {},
     "output_type": "execute_result"
    }
   ],
   "source": [
    "x_test"
   ]
  },
  {
   "cell_type": "markdown",
   "id": "d949b406",
   "metadata": {},
   "source": [
    "# Normalization of Input values"
   ]
  },
  {
   "cell_type": "code",
   "execution_count": 176,
   "id": "47dd6e39",
   "metadata": {},
   "outputs": [],
   "source": [
    "from sklearn.preprocessing import StandardScaler\n",
    "scaler=StandardScaler()\n",
    "x_train=scaler.fit_transform(x_train)\n",
    "x_test=scaler.fit_transform(x_test)"
   ]
  },
  {
   "cell_type": "code",
   "execution_count": 177,
   "id": "e189e19e",
   "metadata": {},
   "outputs": [
    {
     "data": {
      "text/plain": [
       "array([[ 2.14162838, -1.44854551, -1.28822188,  1.06237836],\n",
       "       [-0.42008353, -0.2240556 , -0.06916628, -0.5354387 ],\n",
       "       [ 0.26720503,  0.02084238, -1.69457375,  1.86128689],\n",
       "       [ 0.76705126,  0.02084238, -1.69457375, -0.13598443],\n",
       "       [-1.04489131,  2.34737321, -1.69457375,  1.86128689],\n",
       "       [-0.48256431,  0.63308734, -0.06916628, -0.93489296],\n",
       "       [-1.54473754, -0.59140257,  0.33718559, -0.13598443],\n",
       "       [-0.35760275,  0.02084238,  0.33718559, -0.5354387 ],\n",
       "       [ 1.01697437,  0.63308734, -0.88187001,  0.26346983],\n",
       "       [-1.10737209,  0.63308734,  1.14988933, -0.5354387 ],\n",
       "       [ 0.51712814,  1.24533229,  1.5562412 , -1.33434723],\n",
       "       [-1.10737209, -1.5709945 , -0.06916628, -0.93489296],\n",
       "       [-0.35760275, -0.59140257, -0.06916628, -0.13598443],\n",
       "       [-0.91992976, -0.59140257, -0.47551815, -0.93489296],\n",
       "       [-0.04519886, -0.34650459,  0.33718559, -0.5354387 ],\n",
       "       [ 0.01728192,  1.85757725, -0.88187001,  1.86128689],\n",
       "       [ 0.76705126,  0.63308734, -1.69457375,  0.26346983],\n",
       "       [-0.73248742,  0.63308734,  1.5562412 ,  0.26346983],\n",
       "       [-0.91992976,  0.63308734, -1.28822188,  1.86128689],\n",
       "       [-0.04519886,  0.87798532, -0.88187001,  0.6629241 ],\n",
       "       [-0.54504509,  1.24533229, -0.47551815,  1.86128689],\n",
       "       [ 1.64178215,  0.63308734, -0.06916628,  0.26346983],\n",
       "       [ 1.57930137, -1.32609652, -0.06916628,  1.06237836],\n",
       "       [ 0.57960892,  0.38818935, -0.47551815,  0.6629241 ],\n",
       "       [-1.04489131, -0.59140257,  0.74353746, -0.5354387 ],\n",
       "       [-0.54504509, -1.81589249,  1.96259307, -1.33434723],\n",
       "       [ 0.6420897 ,  0.63308734,  0.33718559, -0.13598443],\n",
       "       [ 0.82953203,  0.63308734, -0.88187001, -0.13598443],\n",
       "       [ 2.14162838,  0.63308734, -0.06916628,  0.26346983],\n",
       "       [ 1.2044167 ,  0.63308734, -0.06916628,  1.06237836],\n",
       "       [-0.17016042,  0.63308734, -1.28822188,  1.46183263],\n",
       "       [ 0.0797627 , -1.20364753,  1.14988933, -0.93489296],\n",
       "       [-0.60752586, -0.83630056,  1.14988933, -0.93489296],\n",
       "       [-1.3572952 ,  0.63308734, -0.06916628, -0.13598443],\n",
       "       [ 1.26689748,  0.63308734, -0.47551815,  0.6629241 ],\n",
       "       [-1.48225676, -0.34650459,  1.14988933, -1.33434723],\n",
       "       [ 0.95449359,  0.02084238,  1.96259307, -1.33434723],\n",
       "       [-1.04489131, -0.2240556 ,  0.33718559, -0.93489296],\n",
       "       [ 0.0797627 ,  1.85757725, -1.69457375,  1.06237836],\n",
       "       [ 0.14224347, -1.5709945 ,  0.33718559, -1.33434723],\n",
       "       [-0.2326412 ,  0.38818935,  1.14988933, -0.93489296],\n",
       "       [ 1.89170526, -0.59140257,  0.74353746,  1.06237836],\n",
       "       [-0.91992976, -1.81589249,  1.14988933, -0.93489296],\n",
       "       [-0.60752586, -1.32609652,  1.14988933, -1.33434723],\n",
       "       [-0.7949682 , -1.81589249, -0.06916628, -0.5354387 ],\n",
       "       [ 1.2044167 ,  0.02084238, -0.06916628,  0.6629241 ],\n",
       "       [-1.29481443, -0.34650459, -0.06916628, -0.5354387 ]])"
      ]
     },
     "execution_count": 177,
     "metadata": {},
     "output_type": "execute_result"
    }
   ],
   "source": [
    "x_train"
   ]
  },
  {
   "cell_type": "code",
   "execution_count": 178,
   "id": "6b3fa0ca",
   "metadata": {},
   "outputs": [
    {
     "data": {
      "text/plain": [
       "array([[ 1.20078911, -1.62480768, -0.56568542,  0.10259784],\n",
       "       [ 0.28879738, -0.59083916,  1.13137085, -1.7441632 ],\n",
       "       [-0.5623949 ,  1.3293881 ,  1.13137085, -0.51298918],\n",
       "       [-0.440796  , -1.92022726, -0.14142136,  0.71818485],\n",
       "       [-0.92719159,  0.59083916, -1.41421356,  1.33377186],\n",
       "       [-0.19759821, -0.14770979,  0.70710678, -0.51298918],\n",
       "       [ 0.47119573,  0.59083916, -1.41421356,  0.71818485],\n",
       "       [-1.23118884,  0.59083916,  0.28284271, -0.51298918],\n",
       "       [ 1.99118195, -0.14770979, -0.98994949,  1.33377186],\n",
       "       [-1.29198829,  0.59083916,  1.13137085,  0.10259784],\n",
       "       [-0.50159545, -0.59083916,  1.13137085, -1.7441632 ],\n",
       "       [ 1.20078911,  1.3293881 , -0.98994949,  0.71818485]])"
      ]
     },
     "execution_count": 178,
     "metadata": {},
     "output_type": "execute_result"
    }
   ],
   "source": [
    "x_test"
   ]
  },
  {
   "cell_type": "markdown",
   "id": "df97e6c3",
   "metadata": {},
   "source": [
    "# Model creation using KNN & Naive Bayes classifier"
   ]
  },
  {
   "cell_type": "code",
   "execution_count": 179,
   "id": "01b5bc24",
   "metadata": {},
   "outputs": [],
   "source": [
    "from sklearn.neighbors import KNeighborsClassifier\n",
    "from sklearn.naive_bayes import GaussianNB\n",
    "from sklearn.metrics import classification_report,accuracy_score,confusion_matrix,ConfusionMatrixDisplay"
   ]
  },
  {
   "cell_type": "code",
   "execution_count": 180,
   "id": "442ee411",
   "metadata": {},
   "outputs": [
    {
     "data": {
      "text/plain": [
       "KNeighborsClassifier(n_neighbors=7)"
      ]
     },
     "execution_count": 180,
     "metadata": {},
     "output_type": "execute_result"
    }
   ],
   "source": [
    "classifier=KNeighborsClassifier(n_neighbors=7)\n",
    "classifier.fit(x_train,y_train)"
   ]
  },
  {
   "cell_type": "code",
   "execution_count": 181,
   "id": "712448ef",
   "metadata": {},
   "outputs": [
    {
     "name": "stderr",
     "output_type": "stream",
     "text": [
      "/home/hp/anaconda3/lib/python3.9/site-packages/sklearn/neighbors/_classification.py:228: FutureWarning: Unlike other reduction functions (e.g. `skew`, `kurtosis`), the default behavior of `mode` typically preserves the axis it acts along. In SciPy 1.11.0, this behavior will change: the default value of `keepdims` will become False, the `axis` over which the statistic is taken will be eliminated, and the value None will no longer be accepted. Set `keepdims` to True or False to avoid this warning.\n",
      "  mode, _ = stats.mode(_y[neigh_ind, k], axis=1)\n"
     ]
    },
    {
     "data": {
      "text/plain": [
       "array([1, 0, 0, 0, 1, 0, 1, 0, 1, 0, 0, 1])"
      ]
     },
     "execution_count": 181,
     "metadata": {},
     "output_type": "execute_result"
    }
   ],
   "source": [
    "y_pred=classifier.predict(x_test)\n",
    "y_pred"
   ]
  },
  {
   "cell_type": "code",
   "execution_count": 182,
   "id": "c68fffa1",
   "metadata": {},
   "outputs": [
    {
     "data": {
      "text/plain": [
       "0.9166666666666666"
      ]
     },
     "execution_count": 182,
     "metadata": {},
     "output_type": "execute_result"
    }
   ],
   "source": [
    "kscore=accuracy_score(y_test,y_pred)\n",
    "kscore"
   ]
  },
  {
   "cell_type": "code",
   "execution_count": 183,
   "id": "def55933",
   "metadata": {},
   "outputs": [
    {
     "data": {
      "text/plain": [
       "<sklearn.metrics._plot.confusion_matrix.ConfusionMatrixDisplay at 0x7f662cd1fca0>"
      ]
     },
     "execution_count": 183,
     "metadata": {},
     "output_type": "execute_result"
    },
    {
     "data": {
      "image/png": "[encoded data removed]",
      "text/plain": [
       "<Figure size 640x480 with 2 Axes>"
      ]
     },
     "metadata": {},
     "output_type": "display_data"
    }
   ],
   "source": [
    "k_cmd=ConfusionMatrixDisplay(confusion_matrix(y_test,y_pred),display_labels=[1,0])\n",
    "k_cmd.plot()"
   ]
  },
  {
   "cell_type": "code",
   "execution_count": 184,
   "id": "a24505f0",
   "metadata": {},
   "outputs": [
    {
     "name": "stdout",
     "output_type": "stream",
     "text": [
      "              precision    recall  f1-score   support\n",
      "\n",
      "           0       0.86      1.00      0.92         6\n",
      "           1       1.00      0.83      0.91         6\n",
      "\n",
      "    accuracy                           0.92        12\n",
      "   macro avg       0.93      0.92      0.92        12\n",
      "weighted avg       0.93      0.92      0.92        12\n",
      "\n"
     ]
    }
   ],
   "source": [
    "kcr=classification_report(y_test,y_pred)\n",
    "print(kcr)"
   ]
  },
  {
   "cell_type": "code",
   "execution_count": 185,
   "id": "116bba37",
   "metadata": {},
   "outputs": [
    {
     "data": {
      "text/plain": [
       "GaussianNB()"
      ]
     },
     "execution_count": 185,
     "metadata": {},
     "output_type": "execute_result"
    }
   ],
   "source": [
    "nb_model=GaussianNB()\n",
    "nb_model.fit(x_train,y_train)"
   ]
  },
  {
   "cell_type": "code",
   "execution_count": 186,
   "id": "117c0599",
   "metadata": {},
   "outputs": [
    {
     "data": {
      "text/plain": [
       "array([1, 0, 0, 1, 1, 0, 1, 0, 1, 0, 0, 1])"
      ]
     },
     "execution_count": 186,
     "metadata": {},
     "output_type": "execute_result"
    }
   ],
   "source": [
    "nb_model.predict(x_test)"
   ]
  },
  {
   "cell_type": "code",
   "execution_count": 187,
   "id": "f6dc5cc9",
   "metadata": {},
   "outputs": [
    {
     "data": {
      "text/plain": [
       "0.9166666666666666"
      ]
     },
     "execution_count": 187,
     "metadata": {},
     "output_type": "execute_result"
    }
   ],
   "source": [
    "nb_score=accuracy_score(y_test,y_pred)\n",
    "nb_score"
   ]
  },
  {
   "cell_type": "code",
   "execution_count": 188,
   "id": "2f057696",
   "metadata": {},
   "outputs": [
    {
     "data": {
      "text/plain": [
       "<sklearn.metrics._plot.confusion_matrix.ConfusionMatrixDisplay at 0x7f662ce00bb0>"
      ]
     },
     "execution_count": 188,
     "metadata": {},
     "output_type": "execute_result"
    },
    {
     "data": {
      "image/png": "[encoded data removed]",
      "text/plain": [
       "<Figure size 640x480 with 2 Axes>"
      ]
     },
     "metadata": {},
     "output_type": "display_data"
    }
   ],
   "source": [
    "nb_cmd=ConfusionMatrixDisplay(confusion_matrix(y_test,y_pred),display_labels=[1,0])\n",
    "nb_cmd.plot()"
   ]
  },
  {
   "cell_type": "code",
   "execution_count": 189,
   "id": "d33356ae",
   "metadata": {},
   "outputs": [
    {
     "name": "stdout",
     "output_type": "stream",
     "text": [
      "              precision    recall  f1-score   support\n",
      "\n",
      "           0       0.86      1.00      0.92         6\n",
      "           1       1.00      0.83      0.91         6\n",
      "\n",
      "    accuracy                           0.92        12\n",
      "   macro avg       0.93      0.92      0.92        12\n",
      "weighted avg       0.93      0.92      0.92        12\n",
      "\n"
     ]
    }
   ],
   "source": [
    "nb_cr=classification_report(y_test,y_pred)\n",
    "print(nb_cr)"
   ]
  }
 ],
 "metadata": {
  "kernelspec": {
   "display_name": "Python 3 (ipykernel)",
   "language": "python",
   "name": "python3"
  },
  "language_info": {
   "codemirror_mode": {
    "name": "ipython",
    "version": 3
   },
   "file_extension": ".py",
   "mimetype": "text/x-python",
   "name": "python",
   "nbconvert_exporter": "python",
   "pygments_lexer": "ipython3",
   "version": "3.9.13"
  }
 },
 "nbformat": 4,
 "nbformat_minor": 5
}
